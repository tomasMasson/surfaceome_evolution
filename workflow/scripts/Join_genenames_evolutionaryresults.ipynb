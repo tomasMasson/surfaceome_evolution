{
 "cells": [
  {
   "cell_type": "code",
   "execution_count": 9,
   "id": "73a90021-4676-40e2-96e1-22ae20e11feb",
   "metadata": {},
   "outputs": [],
   "source": [
    "import pandas as pd\n",
    "from Bio import SeqIO"
   ]
  },
  {
   "cell_type": "code",
   "execution_count": 84,
   "id": "70ec57c4-18e8-46dc-9bff-a3e1a3450115",
   "metadata": {},
   "outputs": [
    {
     "name": "stderr",
     "output_type": "stream",
     "text": [
      "<ipython-input-84-2f5ce16d684b>:13: FutureWarning: The default value of regex will change from True to False in a future version. In addition, single character regular expressions will*not* be treated as literal strings when regex=True.\n",
      "  df_head_split.Dmel_gene=df_head_split.Dmel_gene.str.replace(']','')\n",
      "<ipython-input-84-2f5ce16d684b>:14: FutureWarning: The default value of regex will change from True to False in a future version. In addition, single character regular expressions will*not* be treated as literal strings when regex=True.\n",
      "  df_head_split.Dmel_locus_tag=df_head_split.Dmel_locus_tag.str.replace(']','')\n",
      "<ipython-input-84-2f5ce16d684b>:15: FutureWarning: The default value of regex will change from True to False in a future version. In addition, single character regular expressions will*not* be treated as literal strings when regex=True.\n",
      "  df_head_split.Dmel_ref_flybase=df_head_split.Dmel_ref_flybase.str.replace(']','')\n"
     ]
    }
   ],
   "source": [
    "SurfGenes = pd.read_csv(\"../../resources/DmelGenes_B-XC-domains_binding.csv\")\n",
    "Ortho = pd.read_csv(\"../../resources/Orthogroups_surfaceome.tsv\", delimiter=\"\\t\")\n",
    "EvoFeatures = pd.read_csv(\"../../results/evolutionary_features.tsv\", delimiter= \"\\t\")\n",
    "fasta=SeqIO.parse(\"../../results/drosophila_melanogaster_cds_filt.fna\",'fasta')\n",
    "head=[]\n",
    "for record in fasta:\n",
    "    head.append(record)\n",
    "df_head=pd.DataFrame(header)\n",
    "df_head_split = df_head[0].str.split(pat=\"\\[\", expand= True, n=4)\n",
    "df_head_split.rename(columns = {0:'Dmel_feature_name', 1:'Dmel_gene',2:'Dmel_locus_tag',3:'Dmel_ref_flybase',4:'Dmel_notes_from_fasta_header'}, inplace = True)\n",
    "df_head_split.Dmel_feature_name=df_head_split.Dmel_feature_name.str.replace(' ','')\n",
    "df_head_split.Dmel_gene=df_head_split.Dmel_gene.str.replace('gene=','')\n",
    "df_head_split.Dmel_gene=df_head_split.Dmel_gene.str.replace(']','')\n",
    "df_head_split.Dmel_locus_tag=df_head_split.Dmel_locus_tag.str.replace(']','')\n",
    "df_head_split.Dmel_ref_flybase=df_head_split.Dmel_ref_flybase.str.replace(']','')"
   ]
  },
  {
   "cell_type": "code",
   "execution_count": 83,
   "id": "e77f09ca-b6e2-4708-a6ca-568c63051528",
   "metadata": {},
   "outputs": [],
   "source": [
    "Ortho_GeneName = pd.merge(Ortho, df_head_split, left_on='drosophila_melanogaster_filt', right_on='Dmel_feature_name', how=\"left\")\n",
    "Ortho_GeneName.rename(columns={'Orthogroup':'OG'}, inplace=True)\n",
    "Ortho_GeneName_EvoFeat = pd.merge(EvoFeatures, Ortho_GeneName, on='OG', how='left')\n",
    "Ortho_GeneName_EvoFeat[['OG','Dmel_gene', 'dS', 'dN', 'Omega', 'FN', 'FP', 'Branches','drosophila_melanogaster_filt', 'drosophila_persimilis_filt','drosophila_pseudoobscura_filt', 'drosophila_sechellia_filt','drosophila_simulans_filt', 'drosophila_subobscura_filt','Dmel_feature_name', 'Dmel_locus_tag', 'Dmel_ref_flybase']].to_csv(\"../../results/evolutionary_features_genenames.tsv\", sep=\"\\t\")\n",
    "\n"
   ]
  }
 ],
 "metadata": {
  "kernelspec": {
   "display_name": "Python 3",
   "language": "python",
   "name": "python3"
  },
  "language_info": {
   "codemirror_mode": {
    "name": "ipython",
    "version": 3
   },
   "file_extension": ".py",
   "mimetype": "text/x-python",
   "name": "python",
   "nbconvert_exporter": "python",
   "pygments_lexer": "ipython3",
   "version": "3.8.8"
  }
 },
 "nbformat": 4,
 "nbformat_minor": 5
}
